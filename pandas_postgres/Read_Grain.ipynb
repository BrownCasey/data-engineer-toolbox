{
 "cells": [
  {
   "cell_type": "code",
   "execution_count": 1,
   "id": "d89798c1",
   "metadata": {},
   "outputs": [],
   "source": [
    "import pandas as pd\n",
    "import wget"
   ]
  },
  {
   "cell_type": "code",
   "execution_count": 2,
   "id": "baf6f446",
   "metadata": {},
   "outputs": [],
   "source": [
    "url = \"https://www.ers.usda.gov/webdocs/DataFiles/50048/FeedGrains.zip\""
   ]
  },
  {
   "cell_type": "code",
   "execution_count": 3,
   "id": "5690d836",
   "metadata": {},
   "outputs": [],
   "source": [
    "file = wget.download(url)"
   ]
  },
  {
   "cell_type": "code",
   "execution_count": 4,
   "id": "faf89ab9",
   "metadata": {},
   "outputs": [
    {
     "name": "stdout",
     "output_type": "stream",
     "text": [
      "FeedGrains.zip\n"
     ]
    }
   ],
   "source": [
    "print(file)"
   ]
  },
  {
   "cell_type": "code",
   "execution_count": 6,
   "id": "d73b0fe1",
   "metadata": {},
   "outputs": [
    {
     "name": "stdout",
     "output_type": "stream",
     "text": [
      "Archive:  FeedGrains.zip\n",
      "  inflating: FeedGrains.csv          \n"
     ]
    }
   ],
   "source": [
    "!unzip FeedGrains.zip"
   ]
  },
  {
   "cell_type": "code",
   "execution_count": 7,
   "id": "9a57ef4a",
   "metadata": {},
   "outputs": [],
   "source": [
    "df = pd.read_csv('FeedGrains.csv', nrows=100)"
   ]
  },
  {
   "cell_type": "code",
   "execution_count": 8,
   "id": "d7555a4b",
   "metadata": {},
   "outputs": [
    {
     "data": {
      "text/html": [
       "<div>\n",
       "<style scoped>\n",
       "    .dataframe tbody tr th:only-of-type {\n",
       "        vertical-align: middle;\n",
       "    }\n",
       "\n",
       "    .dataframe tbody tr th {\n",
       "        vertical-align: top;\n",
       "    }\n",
       "\n",
       "    .dataframe thead th {\n",
       "        text-align: right;\n",
       "    }\n",
       "</style>\n",
       "<table border=\"1\" class=\"dataframe\">\n",
       "  <thead>\n",
       "    <tr style=\"text-align: right;\">\n",
       "      <th></th>\n",
       "      <th>SC_Group_ID</th>\n",
       "      <th>SC_Group_Desc</th>\n",
       "      <th>SC_GroupCommod_ID</th>\n",
       "      <th>SC_GroupCommod_Desc</th>\n",
       "      <th>SC_Geography_ID</th>\n",
       "      <th>SortOrder</th>\n",
       "      <th>SC_GeographyIndented_Desc</th>\n",
       "      <th>SC_Commodity_ID</th>\n",
       "      <th>SC_Commodity_Desc</th>\n",
       "      <th>SC_Attribute_ID</th>\n",
       "      <th>SC_Attribute_Desc</th>\n",
       "      <th>SC_Unit_ID</th>\n",
       "      <th>SC_Unit_Desc</th>\n",
       "      <th>Year_ID</th>\n",
       "      <th>SC_Frequency_ID</th>\n",
       "      <th>SC_Frequency_Desc</th>\n",
       "      <th>Timeperiod_ID</th>\n",
       "      <th>Timeperiod_Desc</th>\n",
       "      <th>Amount</th>\n",
       "    </tr>\n",
       "  </thead>\n",
       "  <tbody>\n",
       "    <tr>\n",
       "      <th>0</th>\n",
       "      <td>2</td>\n",
       "      <td>Supply and use</td>\n",
       "      <td>9</td>\n",
       "      <td>Barley</td>\n",
       "      <td>1</td>\n",
       "      <td>0.8</td>\n",
       "      <td>United States</td>\n",
       "      <td>1</td>\n",
       "      <td>Barley</td>\n",
       "      <td>1</td>\n",
       "      <td>Planted acreage</td>\n",
       "      <td>2</td>\n",
       "      <td>Million acres</td>\n",
       "      <td>1926</td>\n",
       "      <td>3</td>\n",
       "      <td>Annual</td>\n",
       "      <td>69</td>\n",
       "      <td>Commodity Market Year</td>\n",
       "      <td>8.796</td>\n",
       "    </tr>\n",
       "    <tr>\n",
       "      <th>1</th>\n",
       "      <td>2</td>\n",
       "      <td>Supply and use</td>\n",
       "      <td>9</td>\n",
       "      <td>Barley</td>\n",
       "      <td>1</td>\n",
       "      <td>0.8</td>\n",
       "      <td>United States</td>\n",
       "      <td>1</td>\n",
       "      <td>Barley</td>\n",
       "      <td>1</td>\n",
       "      <td>Planted acreage</td>\n",
       "      <td>2</td>\n",
       "      <td>Million acres</td>\n",
       "      <td>1927</td>\n",
       "      <td>3</td>\n",
       "      <td>Annual</td>\n",
       "      <td>69</td>\n",
       "      <td>Commodity Market Year</td>\n",
       "      <td>9.513</td>\n",
       "    </tr>\n",
       "    <tr>\n",
       "      <th>2</th>\n",
       "      <td>2</td>\n",
       "      <td>Supply and use</td>\n",
       "      <td>9</td>\n",
       "      <td>Barley</td>\n",
       "      <td>1</td>\n",
       "      <td>0.8</td>\n",
       "      <td>United States</td>\n",
       "      <td>1</td>\n",
       "      <td>Barley</td>\n",
       "      <td>1</td>\n",
       "      <td>Planted acreage</td>\n",
       "      <td>2</td>\n",
       "      <td>Million acres</td>\n",
       "      <td>1928</td>\n",
       "      <td>3</td>\n",
       "      <td>Annual</td>\n",
       "      <td>69</td>\n",
       "      <td>Commodity Market Year</td>\n",
       "      <td>12.828</td>\n",
       "    </tr>\n",
       "    <tr>\n",
       "      <th>3</th>\n",
       "      <td>2</td>\n",
       "      <td>Supply and use</td>\n",
       "      <td>9</td>\n",
       "      <td>Barley</td>\n",
       "      <td>1</td>\n",
       "      <td>0.8</td>\n",
       "      <td>United States</td>\n",
       "      <td>1</td>\n",
       "      <td>Barley</td>\n",
       "      <td>1</td>\n",
       "      <td>Planted acreage</td>\n",
       "      <td>2</td>\n",
       "      <td>Million acres</td>\n",
       "      <td>1929</td>\n",
       "      <td>3</td>\n",
       "      <td>Annual</td>\n",
       "      <td>69</td>\n",
       "      <td>Commodity Market Year</td>\n",
       "      <td>14.703</td>\n",
       "    </tr>\n",
       "    <tr>\n",
       "      <th>4</th>\n",
       "      <td>2</td>\n",
       "      <td>Supply and use</td>\n",
       "      <td>9</td>\n",
       "      <td>Barley</td>\n",
       "      <td>1</td>\n",
       "      <td>0.8</td>\n",
       "      <td>United States</td>\n",
       "      <td>1</td>\n",
       "      <td>Barley</td>\n",
       "      <td>1</td>\n",
       "      <td>Planted acreage</td>\n",
       "      <td>2</td>\n",
       "      <td>Million acres</td>\n",
       "      <td>1930</td>\n",
       "      <td>3</td>\n",
       "      <td>Annual</td>\n",
       "      <td>69</td>\n",
       "      <td>Commodity Market Year</td>\n",
       "      <td>13.581</td>\n",
       "    </tr>\n",
       "  </tbody>\n",
       "</table>\n",
       "</div>"
      ],
      "text/plain": [
       "   SC_Group_ID   SC_Group_Desc  SC_GroupCommod_ID SC_GroupCommod_Desc  \\\n",
       "0            2  Supply and use                  9              Barley   \n",
       "1            2  Supply and use                  9              Barley   \n",
       "2            2  Supply and use                  9              Barley   \n",
       "3            2  Supply and use                  9              Barley   \n",
       "4            2  Supply and use                  9              Barley   \n",
       "\n",
       "   SC_Geography_ID  SortOrder SC_GeographyIndented_Desc  SC_Commodity_ID  \\\n",
       "0                1        0.8             United States                1   \n",
       "1                1        0.8             United States                1   \n",
       "2                1        0.8             United States                1   \n",
       "3                1        0.8             United States                1   \n",
       "4                1        0.8             United States                1   \n",
       "\n",
       "  SC_Commodity_Desc  SC_Attribute_ID SC_Attribute_Desc  SC_Unit_ID  \\\n",
       "0            Barley                1   Planted acreage           2   \n",
       "1            Barley                1   Planted acreage           2   \n",
       "2            Barley                1   Planted acreage           2   \n",
       "3            Barley                1   Planted acreage           2   \n",
       "4            Barley                1   Planted acreage           2   \n",
       "\n",
       "    SC_Unit_Desc  Year_ID  SC_Frequency_ID SC_Frequency_Desc  Timeperiod_ID  \\\n",
       "0  Million acres     1926                3            Annual             69   \n",
       "1  Million acres     1927                3            Annual             69   \n",
       "2  Million acres     1928                3            Annual             69   \n",
       "3  Million acres     1929                3            Annual             69   \n",
       "4  Million acres     1930                3            Annual             69   \n",
       "\n",
       "         Timeperiod_Desc  Amount  \n",
       "0  Commodity Market Year   8.796  \n",
       "1  Commodity Market Year   9.513  \n",
       "2  Commodity Market Year  12.828  \n",
       "3  Commodity Market Year  14.703  \n",
       "4  Commodity Market Year  13.581  "
      ]
     },
     "execution_count": 8,
     "metadata": {},
     "output_type": "execute_result"
    }
   ],
   "source": [
    "df.head()"
   ]
  },
  {
   "cell_type": "code",
   "execution_count": null,
   "id": "7aa6e9b5",
   "metadata": {},
   "outputs": [],
   "source": []
  }
 ],
 "metadata": {
  "kernelspec": {
   "display_name": "Python 3 (ipykernel)",
   "language": "python",
   "name": "python3"
  },
  "language_info": {
   "codemirror_mode": {
    "name": "ipython",
    "version": 3
   },
   "file_extension": ".py",
   "mimetype": "text/x-python",
   "name": "python",
   "nbconvert_exporter": "python",
   "pygments_lexer": "ipython3",
   "version": "3.8.16"
  }
 },
 "nbformat": 4,
 "nbformat_minor": 5
}
